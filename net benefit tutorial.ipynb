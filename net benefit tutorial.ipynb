{
 "cells": [
  {
   "cell_type": "code",
   "execution_count": null,
   "metadata": {},
   "outputs": [],
   "source": [
    "import pandas as pd\n",
    "import numpy as np\n",
    "import matplotlib.pyplot as plt"
   ]
  },
  {
   "cell_type": "code",
   "execution_count": null,
   "metadata": {},
   "outputs": [],
   "source": [
    "#loading Dataset\n",
    "df = pd.read_csv(\"decision_curve_data.csv\")"
   ]
  },
  {
   "cell_type": "markdown",
   "metadata": {},
   "source": [
    "**Question 1:** What is the intervention associated with the readmission model?"
   ]
  },
  {
   "cell_type": "markdown",
   "metadata": {},
   "source": [
    "**Question 2:** In figure 1 from 'a simple, step-by-step guide to interpreting decision curve analysis', the extremes of the x-axis are 'I'm worried about disease' and 'I'm worried about biopsy'. What do the extremes of this scale represent for the readmission case?"
   ]
  },
  {
   "cell_type": "code",
   "execution_count": null,
   "metadata": {},
   "outputs": [],
   "source": [
    "def decision_curve(data, probabilities, y, labels, xlim=[0,1]):\n",
    "    y = data.loc[:,y]\n",
    "    event_rate = np.mean(y)\n",
    "    N = data.shape[0]\n",
    "\n",
    "    # make nb table\n",
    "    nb = pd.DataFrame(np.arange(0.01,1,0.01),columns=['threshold'])\n",
    "    nb['treat_all'] = event_rate - (1-event_rate)*nb.threshold/(1-nb.threshold)\n",
    "    nb['treat_none'] = 0\n",
    "\n",
    "    # Make plot\n",
    "    ymax = np.max(np.max(nb.loc[:,nb.columns!='threshold']))\n",
    "    plt.figure(figsize=(10,6))\n",
    "    plt.plot(nb.threshold, nb.treat_all)\n",
    "    plt.plot(nb.threshold, nb.treat_none)\n",
    "    plt.ylim(bottom=-0.01,top=ymax)\n",
    "    plt.xlim(left=xlim[0],right=xlim[1])\n",
    "    plt.legend(title='Predictors', labels=['Treat all','Treat none']+labels)\n",
    "    plt.xlabel('Decision probability threshold')\n",
    "    plt.ylabel('Net benefit (reduction readmission)')\n",
    "\n",
    "    return plt\n",
    "\n",
    "# Generate decision curve\n",
    "probabilities = ['logit_pred','dtree_pred','rm_pred']\n",
    "labels = ['Logistic regression','Decision tree', 'Random Forest']\n",
    "y = 'readmitted'\n",
    "plt = decision_curve(df, probabilities, y, labels, xlim=[0,0.5])\n",
    "plt.show()"
   ]
  },
  {
   "cell_type": "markdown",
   "metadata": {},
   "source": [
    "**Question 3:** What do the 'treat all' and 'treat none' strategies signify in the readmission case? "
   ]
  },
  {
   "cell_type": "markdown",
   "metadata": {},
   "source": [
    "**Question 4:** Fill in the formula for net benefit."
   ]
  },
  {
   "cell_type": "code",
   "execution_count": null,
   "metadata": {},
   "outputs": [],
   "source": [
    "def decision_curve(data, probabilities, y, labels, xlim=[0,1]):\n",
    "    y = data.loc[:,y]\n",
    "    event_rate = np.mean(y)\n",
    "    N = data.shape[0]\n",
    "\n",
    "    # make nb table\n",
    "    nb = pd.DataFrame(np.arange(0.01,1,0.01),columns=['threshold'])\n",
    "    nb['treat_all'] = event_rate - (1-event_rate)*nb.threshold/(1-nb.threshold)\n",
    "    nb['treat_none'] = 0\n",
    "\n",
    "    # cycling through each predictor and calculating net benefit\n",
    "    for m in probabilities:\n",
    "        nb[m] = 0\n",
    "        p = data.loc[:,m]\n",
    "        for ind,t in enumerate(nb.threshold):\n",
    "            tp = np.sum(y.loc[p>=t]==True)\n",
    "            fp = np.sum(y.loc[p>=t]==False)\n",
    "            if np.sum(p>=t)==0:\n",
    "                tp=fp=0\n",
    "            nb.iloc[ind,nb.columns.get_indexer([m])] = ... # <--- fill in formula here!!!\n",
    "\n",
    "    # Make plot\n",
    "    ymax = np.max(np.max(nb.loc[:,nb.columns!='threshold']))\n",
    "    plt.figure(figsize=(10,6))\n",
    "    plt.plot(nb.threshold, nb.treat_all)\n",
    "    plt.plot(nb.threshold, nb.treat_none)\n",
    "    for m in probabilities:\n",
    "        plt.plot(nb.threshold, nb.loc[:,m])\n",
    "    plt.ylim(bottom=-0.01,top=ymax)\n",
    "    plt.xlim(left=xlim[0],right=xlim[1])\n",
    "    plt.legend(title='Predictors', labels=['Treat all','Treat none']+labels)\n",
    "    plt.xlabel('Decision probability threshold')\n",
    "    plt.ylabel('Net benefit (reduction readmission)')\n",
    "\n",
    "    return plt\n",
    "\n",
    "# Generate decision curve\n",
    "probabilities = ['logit_pred','dtree_pred','rm_pred']\n",
    "labels = ['Logistic regression','Decision tree', 'Random Forest']\n",
    "y = 'readmitted'\n",
    "plt = decision_curve(df, probabilities, y, labels, xlim=[0,0.5])\n",
    "plt.show()"
   ]
  },
  {
   "cell_type": "markdown",
   "metadata": {},
   "source": [
    "**Question 5:** What does net benefit represent? "
   ]
  },
  {
   "cell_type": "markdown",
   "metadata": {},
   "source": [
    "**Question 6:** Discuss the plot. Which model do you prefer based on NB approach? Why?"
   ]
  }
 ],
 "metadata": {
  "interpreter": {
   "hash": "a8aac0b6a3e67f35bcd67088a857342b2a6b50e1135570ee0f841fb10732c056"
  },
  "kernelspec": {
   "display_name": "Python 3.7.11 ('test')",
   "language": "python",
   "name": "python3"
  },
  "language_info": {
   "codemirror_mode": {
    "name": "ipython",
    "version": 3
   },
   "file_extension": ".py",
   "mimetype": "text/x-python",
   "name": "python",
   "nbconvert_exporter": "python",
   "pygments_lexer": "ipython3",
   "version": "3.7.11"
  },
  "orig_nbformat": 4
 },
 "nbformat": 4,
 "nbformat_minor": 2
}
